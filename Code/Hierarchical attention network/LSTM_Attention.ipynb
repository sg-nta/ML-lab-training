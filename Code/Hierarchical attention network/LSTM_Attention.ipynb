{
  "cells": [
    {
      "cell_type": "markdown",
      "source": [
        "# Hierarchical attention network for documents classification"
      ],
      "metadata": {
        "id": "OVaL2LnmSkgW"
      }
    },
    {
      "cell_type": "markdown",
      "source": [
        "## Import libraries"
      ],
      "metadata": {
        "id": "nut-YaEgS1H-"
      }
    },
    {
      "cell_type": "code",
      "execution_count": 1,
      "metadata": {
        "id": "tv2bCxpwPyeb"
      },
      "outputs": [],
      "source": [
        "import numpy as np\n",
        "import pandas as pd\n",
        "import tensorflow as tf\n",
        "import keras.backend as K\n",
        "from keras.preprocessing import text, sequence\n",
        "from keras.preprocessing.text import Tokenizer\n",
        "from keras.layers import Layer\n",
        "from keras import initializers, regularizers, constraints\n",
        "from keras.layers import *\n",
        "from keras.models import Model\n"
      ]
    },
    {
      "cell_type": "code",
      "execution_count": 2,
      "metadata": {
        "colab": {
          "base_uri": "https://localhost:8080/"
        },
        "id": "0LugPHt9SMTP",
        "outputId": "dac24e8a-42db-48de-8983-34bb6d719deb"
      },
      "outputs": [
        {
          "output_type": "stream",
          "name": "stdout",
          "text": [
            "Mounted at /content/drive\n"
          ]
        }
      ],
      "source": [
        "from google.colab import drive\n",
        "drive.mount('/content/drive')"
      ]
    },
    {
      "cell_type": "code",
      "execution_count": 3,
      "metadata": {
        "colab": {
          "base_uri": "https://localhost:8080/"
        },
        "id": "GLB0Y_hFSlWN",
        "outputId": "e1a52701-b711-4e6a-ac7e-4e33b7a62c13"
      },
      "outputs": [
        {
          "output_type": "stream",
          "name": "stdout",
          "text": [
            "/content/drive/My Drive/Document-classification\n"
          ]
        }
      ],
      "source": [
        "%cd /content/drive/My Drive/Document-classification"
      ]
    },
    {
      "cell_type": "markdown",
      "source": [
        "## Load data"
      ],
      "metadata": {
        "id": "lcn7e0gvS5Y2"
      }
    },
    {
      "cell_type": "code",
      "execution_count": 6,
      "metadata": {
        "id": "HLpArngxWF1P"
      },
      "outputs": [],
      "source": [
        "MAX_WORDS = 50\n",
        "MAX_SENTENCES = 30\n",
        "\n",
        "def get_data(filename):\n",
        "  data = []\n",
        "  labels = []\n",
        "  with open(filename) as f:\n",
        "      for data_id, line in enumerate(f):\n",
        "        features = line.split('<fff>')\n",
        "        label, doc_id, content = int(features[0]), int(features[1]), features[2:]\n",
        "        labels.append(label)\n",
        "        encoded_contents = [] \n",
        "        \n",
        "        for sentence in content:\n",
        "            encoded_sentences = [int(token) for token in sentence.split()]\n",
        "            encoded_contents.append(encoded_sentences)\n",
        "        data.append(encoded_contents)\n",
        "  return np.array(data), np.array(labels)\n"
      ]
    },
    {
      "cell_type": "code",
      "execution_count": 8,
      "metadata": {
        "id": "Gj7OBkaoWF8P"
      },
      "outputs": [],
      "source": [
        "X_train, y_train = get_data('20news-train-encoded.txt')"
      ]
    },
    {
      "cell_type": "code",
      "execution_count": 9,
      "metadata": {
        "id": "dm6h8ckgTCjo"
      },
      "outputs": [],
      "source": [
        "X_test, y_test = get_data('20news-test-encoded.txt')"
      ]
    },
    {
      "cell_type": "code",
      "source": [
        "y_train = pd.get_dummies(pd.Series(y_train)).values\n",
        "y_test = pd.get_dummies(pd.Series(y_test)).values\n"
      ],
      "metadata": {
        "id": "CMrvbX1GNTKj"
      },
      "execution_count": 19,
      "outputs": []
    },
    {
      "cell_type": "code",
      "execution_count": 10,
      "metadata": {
        "colab": {
          "base_uri": "https://localhost:8080/"
        },
        "id": "kSsamZOKW4F2",
        "outputId": "acf812b9-a3cf-4401-df20-ad4dcf1aa0c8"
      },
      "outputs": [
        {
          "output_type": "execute_result",
          "data": {
            "text/plain": [
              "18988"
            ]
          },
          "metadata": {},
          "execution_count": 10
        }
      ],
      "source": [
        "with open(\"vocab-raw.txt\", 'rb') as f:\n",
        "  vocab_size = len(f.read().splitlines())\n",
        "vocab_size"
      ]
    },
    {
      "cell_type": "markdown",
      "source": [
        "## Define attention layer"
      ],
      "metadata": {
        "id": "T9xlrYHRSfaf"
      }
    },
    {
      "cell_type": "code",
      "execution_count": 11,
      "metadata": {
        "id": "qoaaDWHIWGAd"
      },
      "outputs": [],
      "source": [
        "def dot_product(x, kernel):\n",
        "    \"\"\"\n",
        "    Wrapper for dot product operation, in order to be compatible with both\n",
        "    Theano and Tensorflow\n",
        "    Args:\n",
        "        x (): input\n",
        "        kernel (): weights\n",
        "    Returns:\n",
        "    \"\"\"\n",
        "    if K.backend() == 'tensorflow':\n",
        "        return K.squeeze(K.dot(x, K.expand_dims(kernel)), axis=-1)\n",
        "    else:\n",
        "        return K.dot(x, kernel)\n"
      ]
    },
    {
      "cell_type": "code",
      "source": [
        "class AttentionWithContext(tf.keras.layers.Layer):\n",
        "    \n",
        "    def __init__(self,\n",
        "                 W_regularizer=None, u_regularizer=None, b_regularizer=None,\n",
        "                 W_constraint=None, u_constraint=None, b_constraint=None,\n",
        "                 bias=True, **kwargs):\n",
        "\n",
        "        self.supports_masking = True\n",
        "        self.init = initializers.get('glorot_uniform')\n",
        "\n",
        "        self.W_regularizer = regularizers.get(W_regularizer)\n",
        "        self.u_regularizer = regularizers.get(u_regularizer)\n",
        "        self.b_regularizer = regularizers.get(b_regularizer)\n",
        "\n",
        "        self.W_constraint = constraints.get(W_constraint)\n",
        "        self.u_constraint = constraints.get(u_constraint)\n",
        "        self.b_constraint = constraints.get(b_constraint)\n",
        "\n",
        "        self.bias = bias\n",
        "        super(AttentionWithContext, self).__init__(**kwargs)\n",
        "\n",
        "    def build(self, input_shape):\n",
        "        assert len(input_shape) == 3\n",
        "\n",
        "        self.W = self.add_weight(shape=(input_shape[-1], input_shape[-1],),\n",
        "                                 initializer=self.init,\n",
        "                                 name='{}_W'.format(self.name),\n",
        "                                 regularizer=self.W_regularizer,\n",
        "                                 constraint=self.W_constraint)\n",
        "        if self.bias:\n",
        "            self.b = self.add_weight(shape=(input_shape[-1],),\n",
        "                                     initializer='zero',\n",
        "                                     name='{}_b'.format(self.name),\n",
        "                                     regularizer=self.b_regularizer,\n",
        "                                     constraint=self.b_constraint)\n",
        "\n",
        "        self.u = self.add_weight(shape=(input_shape[-1],),\n",
        "                                 initializer=self.init,\n",
        "                                 name='{}_u'.format(self.name),\n",
        "                                 regularizer=self.u_regularizer,\n",
        "                                 constraint=self.u_constraint)\n",
        "\n",
        "        super(AttentionWithContext, self).build(input_shape)\n",
        "\n",
        "    def compute_mask(self, input, input_mask=None):\n",
        "        # do not pass the mask to the next layers\n",
        "        return None\n",
        "\n",
        "    def call(self, x, mask=None):\n",
        "        uit = dot_product(x, self.W)\n",
        "\n",
        "        if self.bias:\n",
        "            uit += self.b\n",
        "\n",
        "        uit = K.tanh(uit)\n",
        "        ait = dot_product(uit, self.u)\n",
        "\n",
        "        a = K.exp(ait)\n",
        "\n",
        "        # apply mask after the exp. will be re-normalized next\n",
        "        if mask is not None:\n",
        "            # Cast the mask to floatX to avoid float64 upcasting in theano\n",
        "            a *= K.cast(mask, K.floatx())\n",
        "\n",
        "        # in some cases especially in the early stages of training the sum may be almost zero\n",
        "        # and this results in NaN's. A workaround is to add a very small positive number ε to the sum.\n",
        "        # a /= K.cast(K.sum(a, axis=1, keepdims=True), K.floatx())\n",
        "        a /= K.cast(K.sum(a, axis=1, keepdims=True) + K.epsilon(), K.floatx())\n",
        "\n",
        "        a = K.expand_dims(a)\n",
        "        weighted_input = x * a\n",
        "        return K.sum(weighted_input, axis=1)\n",
        "\n",
        "    def compute_output_shape(self, input_shape):\n",
        "        return input_shape[0], input_shape[-1]\n"
      ],
      "metadata": {
        "id": "Xl57kAZfJHPH"
      },
      "execution_count": 12,
      "outputs": []
    },
    {
      "cell_type": "markdown",
      "source": [
        "## Model"
      ],
      "metadata": {
        "id": "0kAOjc_BTCDO"
      }
    },
    {
      "cell_type": "code",
      "execution_count": 21,
      "metadata": {
        "colab": {
          "base_uri": "https://localhost:8080/"
        },
        "id": "XSlf5wty_kXJ",
        "outputId": "85db0443-7f2a-4d8d-81aa-b57992a2ce27"
      },
      "outputs": [
        {
          "output_type": "stream",
          "name": "stdout",
          "text": [
            "Model: \"model_5\"\n",
            "_________________________________________________________________\n",
            " Layer (type)                Output Shape              Param #   \n",
            "=================================================================\n",
            " input_6 (InputLayer)        [(None, 30, 50)]          0         \n",
            "                                                                 \n",
            " time_distributed_7 (TimeDis  (None, 30, 200)          6098400   \n",
            " tributed)                                                       \n",
            "                                                                 \n",
            " bidirectional_5 (Bidirectio  (None, 30, 200)          240800    \n",
            " nal)                                                            \n",
            "                                                                 \n",
            " time_distributed_8 (TimeDis  (None, 30, 200)          40200     \n",
            " tributed)                                                       \n",
            "                                                                 \n",
            " attention_with_context_5 (A  (None, 200)              40400     \n",
            " ttentionWithContext)                                            \n",
            "                                                                 \n",
            " dense_8 (Dense)             (None, 20)                4020      \n",
            "                                                                 \n",
            "=================================================================\n",
            "Total params: 6,423,820\n",
            "Trainable params: 6,423,820\n",
            "Non-trainable params: 0\n",
            "_________________________________________________________________\n"
          ]
        }
      ],
      "source": [
        "embedding_layer = Embedding(input_dim=vocab_size+2, output_dim=300, input_length=MAX_WORDS)\n",
        "\n",
        "char_input = Input(shape=(MAX_WORDS,), dtype='int32')\n",
        "char_sequences = embedding_layer(char_input)\n",
        "char_lstm = Bidirectional(LSTM(100, return_sequences=True))(char_sequences)\n",
        "char_dense = TimeDistributed(Dense(200))(char_lstm)\n",
        "char_att = AttentionWithContext()(char_dense)\n",
        "charEncoder = Model(char_input, char_att)\n",
        "\n",
        "words_input = Input(shape=(MAX_SENTENCES, MAX_WORDS), dtype='int32')\n",
        "words_encoder = TimeDistributed(charEncoder)(words_input)\n",
        "words_lstm = Bidirectional(LSTM(100, return_sequences=True))(words_encoder)\n",
        "words_dense = TimeDistributed(Dense(200))(words_lstm)\n",
        "words_att = AttentionWithContext()(words_dense)\n",
        "preds = Dense(20, activation='softmax')(words_att)\n",
        "model = Model(words_input, preds)\n",
        "\n",
        "model.compile(loss='categorical_crossentropy',\n",
        "              optimizer='adam',\n",
        "              metrics=['acc'])\n",
        "\n",
        "model.summary()"
      ]
    },
    {
      "cell_type": "code",
      "execution_count": 24,
      "metadata": {
        "colab": {
          "base_uri": "https://localhost:8080/"
        },
        "id": "iHuovT8qWCqH",
        "outputId": "7a90e852-eb06-45be-b4ae-8af460d068f9"
      },
      "outputs": [
        {
          "output_type": "stream",
          "name": "stdout",
          "text": [
            "Epoch 1/10\n",
            "102/102 [==============================] - 22s 216ms/step - loss: 0.1463 - acc: 0.9600 - val_loss: 8.8833 - val_acc: 0.1890\n",
            "Epoch 2/10\n",
            "102/102 [==============================] - 23s 222ms/step - loss: 0.0180 - acc: 0.9950 - val_loss: 9.6058 - val_acc: 0.2138\n",
            "Epoch 3/10\n",
            "102/102 [==============================] - 22s 213ms/step - loss: 0.0051 - acc: 0.9989 - val_loss: 9.6628 - val_acc: 0.2155\n",
            "Epoch 4/10\n",
            "102/102 [==============================] - 21s 210ms/step - loss: 0.0018 - acc: 0.9994 - val_loss: 9.9151 - val_acc: 0.2147\n",
            "Epoch 5/10\n",
            "102/102 [==============================] - 22s 213ms/step - loss: 0.0018 - acc: 0.9995 - val_loss: 10.0868 - val_acc: 0.2138\n",
            "Epoch 6/10\n",
            "102/102 [==============================] - 22s 216ms/step - loss: 0.0014 - acc: 0.9995 - val_loss: 10.2441 - val_acc: 0.2147\n",
            "Epoch 7/10\n",
            "102/102 [==============================] - 22s 213ms/step - loss: 0.0014 - acc: 0.9995 - val_loss: 10.2302 - val_acc: 0.2173\n",
            "Epoch 8/10\n",
            "102/102 [==============================] - 22s 211ms/step - loss: 0.0012 - acc: 0.9995 - val_loss: 10.5565 - val_acc: 0.2138\n",
            "Epoch 9/10\n",
            "102/102 [==============================] - 22s 213ms/step - loss: 0.0013 - acc: 0.9994 - val_loss: 10.4766 - val_acc: 0.2155\n",
            "Epoch 10/10\n",
            "102/102 [==============================] - 22s 215ms/step - loss: 0.0011 - acc: 0.9994 - val_loss: 10.7465 - val_acc: 0.2138\n"
          ]
        }
      ],
      "source": [
        "history = model.fit(X_train, y_train,\n",
        "                    epochs=10, verbose=1,\n",
        "                    validation_split = 0.1,\n",
        "                    batch_size= 100, shuffle = True)\n"
      ]
    },
    {
      "cell_type": "code",
      "source": [
        "model.evaluate(X_test, y_test)"
      ],
      "metadata": {
        "colab": {
          "base_uri": "https://localhost:8080/"
        },
        "id": "gnrxbKBzfeqA",
        "outputId": "3e6c9cec-c84a-436a-a2e3-7a3ddf7e560c"
      },
      "execution_count": 25,
      "outputs": [
        {
          "output_type": "stream",
          "name": "stdout",
          "text": [
            "236/236 [==============================] - 6s 26ms/step - loss: 2.0300 - acc: 0.7593\n"
          ]
        },
        {
          "output_type": "execute_result",
          "data": {
            "text/plain": [
              "[2.0299768447875977, 0.7592936754226685]"
            ]
          },
          "metadata": {},
          "execution_count": 25
        }
      ]
    },
    {
      "cell_type": "code",
      "source": [
        "from matplotlib import pyplot as plt\n",
        " \n",
        "def summarize_diagnostics(history, model_name):\n",
        "\n",
        "    plt.plot(history.history['acc'])\n",
        "    plt.plot(history.history['val_acc'])\n",
        "    plt.title(f'{model_name} accuracy')\n",
        "    plt.ylabel('accuracy')\n",
        "    plt.xlabel('epoch')\n",
        "    plt.legend(['train', 'val'], loc='upper left')\n",
        "    plt.show()\n",
        "\n",
        "    plt.plot(history.history['loss'])\n",
        "    plt.plot(history.history['val_loss'])\n",
        "    plt.title(f'{model_name} loss')\n",
        "    plt.ylabel('loss')\n",
        "    plt.xlabel('epoch')\n",
        "    plt.legend(['train', 'val'], loc='upper left')\n",
        "    plt.show()\n"
      ],
      "metadata": {
        "id": "f1QOA9ZOTKhR"
      },
      "execution_count": 30,
      "outputs": []
    },
    {
      "cell_type": "code",
      "source": [
        "summarize_diagnostics(history, \"LSTM with attention\")"
      ],
      "metadata": {
        "colab": {
          "base_uri": "https://localhost:8080/",
          "height": 573
        },
        "id": "Hp6L5_0nTS-l",
        "outputId": "aa01eac5-fc98-4f37-80a3-e50e36210fe3"
      },
      "execution_count": 31,
      "outputs": [
        {
          "output_type": "display_data",
          "data": {
            "text/plain": [
              "<Figure size 432x288 with 1 Axes>"
            ],
            "image/png": "[encoded data removed]"
          },
          "metadata": {
            "needs_background": "light"
          }
        },
        {
          "output_type": "display_data",
          "data": {
            "text/plain": [
              "<Figure size 432x288 with 1 Axes>"
            ],
            "image/png": "[encoded data removed]"
          },
          "metadata": {
            "needs_background": "light"
          }
        }
      ]
    }
  ],
  "metadata": {
    "colab": {
      "collapsed_sections": [],
      "provenance": []
    },
    "kernelspec": {
      "display_name": "Python 3",
      "name": "python3"
    },
    "language_info": {
      "name": "python"
    },
    "accelerator": "GPU"
  },
  "nbformat": 4,
  "nbformat_minor": 0
}